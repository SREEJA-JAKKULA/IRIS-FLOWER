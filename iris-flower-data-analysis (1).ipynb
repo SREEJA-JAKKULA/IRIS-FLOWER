{
 "cells": [
  {
   "cell_type": "code",
   "execution_count": 1,
   "id": "e8c8be0d",
   "metadata": {
    "_cell_guid": "b1076dfc-b9ad-4769-8c92-a6c4dae69d19",
    "_uuid": "8f2839f25d086af736a60e9eeb907d3b93b6e0e5",
    "execution": {
     "iopub.execute_input": "2023-06-04T14:45:15.090331Z",
     "iopub.status.busy": "2023-06-04T14:45:15.089890Z",
     "iopub.status.idle": "2023-06-04T14:45:15.108075Z",
     "shell.execute_reply": "2023-06-04T14:45:15.107093Z"
    },
    "papermill": {
     "duration": 0.03785,
     "end_time": "2023-06-04T14:45:15.110597",
     "exception": false,
     "start_time": "2023-06-04T14:45:15.072747",
     "status": "completed"
    },
    "tags": []
   },
   "outputs": [
    {
     "name": "stdout",
     "output_type": "stream",
     "text": [
      "/kaggle/input/iriscsv/Iris.csv\n"
     ]
    }
   ],
   "source": [
    "# This Python 3 environment comes with many helpful analytics libraries installed\n",
    "# It is defined by the kaggle/python Docker image: https://github.com/kaggle/docker-python\n",
    "# For example, here's several helpful packages to load\n",
    "\n",
    "import numpy as np # linear algebra\n",
    "import pandas as pd # data processing, CSV file I/O (e.g. pd.read_csv)\n",
    "\n",
    "# Input data files are available in the read-only \"../input/\" directory\n",
    "# For example, running this (by clicking run or pressing Shift+Enter) will list all files under the input directory\n",
    "\n",
    "import os\n",
    "for dirname, _, filenames in os.walk('/kaggle/input'):\n",
    "    for filename in filenames:\n",
    "        print(os.path.join(dirname, filename))\n",
    "\n",
    "# You can write up to 20GB to the current directory (/kaggle/working/) that gets preserved as output when you create a version using \"Save & Run All\" \n",
    "# You can also write temporary files to /kaggle/temp/, but they won't be saved outside of the current session"
   ]
  },
  {
   "cell_type": "markdown",
   "id": "40f0f7a5",
   "metadata": {
    "papermill": {
     "duration": 0.011538,
     "end_time": "2023-06-04T14:45:15.134496",
     "exception": false,
     "start_time": "2023-06-04T14:45:15.122958",
     "status": "completed"
    },
    "tags": []
   },
   "source": [
    "**IMPORING REQUIRED MODULES**"
   ]
  },
  {
   "cell_type": "code",
   "execution_count": 2,
   "id": "574bf270",
   "metadata": {
    "execution": {
     "iopub.execute_input": "2023-06-04T14:45:15.160915Z",
     "iopub.status.busy": "2023-06-04T14:45:15.160196Z",
     "iopub.status.idle": "2023-06-04T14:45:16.898597Z",
     "shell.execute_reply": "2023-06-04T14:45:16.896941Z"
    },
    "papermill": {
     "duration": 1.755454,
     "end_time": "2023-06-04T14:45:16.902030",
     "exception": false,
     "start_time": "2023-06-04T14:45:15.146576",
     "status": "completed"
    },
    "tags": []
   },
   "outputs": [],
   "source": [
    "import pandas as pd\n",
    "import numpy as np\n",
    "import os\n",
    "import matplotlib.pyplot as plt\n",
    "import seaborn as sns"
   ]
  },
  {
   "cell_type": "markdown",
   "id": "dc3bd315",
   "metadata": {
    "papermill": {
     "duration": 0.012144,
     "end_time": "2023-06-04T14:45:16.926407",
     "exception": false,
     "start_time": "2023-06-04T14:45:16.914263",
     "status": "completed"
    },
    "tags": []
   },
   "source": [
    "**LOADING THE DATASET AND COVERTING INTO DATAFRAME** "
   ]
  },
  {
   "cell_type": "code",
   "execution_count": 3,
   "id": "2ed0e768",
   "metadata": {
    "execution": {
     "iopub.execute_input": "2023-06-04T14:45:16.952425Z",
     "iopub.status.busy": "2023-06-04T14:45:16.951959Z",
     "iopub.status.idle": "2023-06-04T14:45:16.977628Z",
     "shell.execute_reply": "2023-06-04T14:45:16.976591Z"
    },
    "papermill": {
     "duration": 0.042022,
     "end_time": "2023-06-04T14:45:16.980474",
     "exception": false,
     "start_time": "2023-06-04T14:45:16.938452",
     "status": "completed"
    },
    "tags": []
   },
   "outputs": [],
   "source": [
    "df=pd.read_csv('/kaggle/input/iriscsv/Iris.csv')"
   ]
  },
  {
   "cell_type": "markdown",
   "id": "0abf9c08",
   "metadata": {
    "papermill": {
     "duration": 0.011439,
     "end_time": "2023-06-04T14:45:17.003864",
     "exception": false,
     "start_time": "2023-06-04T14:45:16.992425",
     "status": "completed"
    },
    "tags": []
   },
   "source": [
    "**DISPLAYING THE STATICS OF DATASET**"
   ]
  },
  {
   "cell_type": "code",
   "execution_count": 4,
   "id": "657be486",
   "metadata": {
    "execution": {
     "iopub.execute_input": "2023-06-04T14:45:17.032448Z",
     "iopub.status.busy": "2023-06-04T14:45:17.031565Z",
     "iopub.status.idle": "2023-06-04T14:45:17.067890Z",
     "shell.execute_reply": "2023-06-04T14:45:17.067016Z"
    },
    "papermill": {
     "duration": 0.052065,
     "end_time": "2023-06-04T14:45:17.070369",
     "exception": false,
     "start_time": "2023-06-04T14:45:17.018304",
     "status": "completed"
    },
    "tags": []
   },
   "outputs": [
    {
     "data": {
      "text/html": [
       "<div>\n",
       "<style scoped>\n",
       "    .dataframe tbody tr th:only-of-type {\n",
       "        vertical-align: middle;\n",
       "    }\n",
       "\n",
       "    .dataframe tbody tr th {\n",
       "        vertical-align: top;\n",
       "    }\n",
       "\n",
       "    .dataframe thead th {\n",
       "        text-align: right;\n",
       "    }\n",
       "</style>\n",
       "<table border=\"1\" class=\"dataframe\">\n",
       "  <thead>\n",
       "    <tr style=\"text-align: right;\">\n",
       "      <th></th>\n",
       "      <th>Id</th>\n",
       "      <th>SepalLengthCm</th>\n",
       "      <th>SepalWidthCm</th>\n",
       "      <th>PetalLengthCm</th>\n",
       "      <th>PetalWidthCm</th>\n",
       "      <th>Species</th>\n",
       "    </tr>\n",
       "  </thead>\n",
       "  <tbody>\n",
       "    <tr>\n",
       "      <th>0</th>\n",
       "      <td>1</td>\n",
       "      <td>5.1</td>\n",
       "      <td>3.5</td>\n",
       "      <td>1.4</td>\n",
       "      <td>0.2</td>\n",
       "      <td>Iris-setosa</td>\n",
       "    </tr>\n",
       "    <tr>\n",
       "      <th>1</th>\n",
       "      <td>2</td>\n",
       "      <td>4.9</td>\n",
       "      <td>3.0</td>\n",
       "      <td>1.4</td>\n",
       "      <td>0.2</td>\n",
       "      <td>Iris-setosa</td>\n",
       "    </tr>\n",
       "    <tr>\n",
       "      <th>2</th>\n",
       "      <td>3</td>\n",
       "      <td>4.7</td>\n",
       "      <td>3.2</td>\n",
       "      <td>1.3</td>\n",
       "      <td>0.2</td>\n",
       "      <td>Iris-setosa</td>\n",
       "    </tr>\n",
       "    <tr>\n",
       "      <th>3</th>\n",
       "      <td>4</td>\n",
       "      <td>4.6</td>\n",
       "      <td>3.1</td>\n",
       "      <td>1.5</td>\n",
       "      <td>0.2</td>\n",
       "      <td>Iris-setosa</td>\n",
       "    </tr>\n",
       "    <tr>\n",
       "      <th>4</th>\n",
       "      <td>5</td>\n",
       "      <td>5.0</td>\n",
       "      <td>3.6</td>\n",
       "      <td>1.4</td>\n",
       "      <td>0.2</td>\n",
       "      <td>Iris-setosa</td>\n",
       "    </tr>\n",
       "  </tbody>\n",
       "</table>\n",
       "</div>"
      ],
      "text/plain": [
       "   Id  SepalLengthCm  SepalWidthCm  PetalLengthCm  PetalWidthCm      Species\n",
       "0   1            5.1           3.5            1.4           0.2  Iris-setosa\n",
       "1   2            4.9           3.0            1.4           0.2  Iris-setosa\n",
       "2   3            4.7           3.2            1.3           0.2  Iris-setosa\n",
       "3   4            4.6           3.1            1.5           0.2  Iris-setosa\n",
       "4   5            5.0           3.6            1.4           0.2  Iris-setosa"
      ]
     },
     "execution_count": 4,
     "metadata": {},
     "output_type": "execute_result"
    }
   ],
   "source": [
    "df.head()"
   ]
  },
  {
   "cell_type": "code",
   "execution_count": 5,
   "id": "bfcbd648",
   "metadata": {
    "execution": {
     "iopub.execute_input": "2023-06-04T14:45:17.098624Z",
     "iopub.status.busy": "2023-06-04T14:45:17.097457Z",
     "iopub.status.idle": "2023-06-04T14:45:17.114029Z",
     "shell.execute_reply": "2023-06-04T14:45:17.112876Z"
    },
    "papermill": {
     "duration": 0.032977,
     "end_time": "2023-06-04T14:45:17.116810",
     "exception": false,
     "start_time": "2023-06-04T14:45:17.083833",
     "status": "completed"
    },
    "tags": []
   },
   "outputs": [
    {
     "data": {
      "text/html": [
       "<div>\n",
       "<style scoped>\n",
       "    .dataframe tbody tr th:only-of-type {\n",
       "        vertical-align: middle;\n",
       "    }\n",
       "\n",
       "    .dataframe tbody tr th {\n",
       "        vertical-align: top;\n",
       "    }\n",
       "\n",
       "    .dataframe thead th {\n",
       "        text-align: right;\n",
       "    }\n",
       "</style>\n",
       "<table border=\"1\" class=\"dataframe\">\n",
       "  <thead>\n",
       "    <tr style=\"text-align: right;\">\n",
       "      <th></th>\n",
       "      <th>Id</th>\n",
       "      <th>SepalLengthCm</th>\n",
       "      <th>SepalWidthCm</th>\n",
       "      <th>PetalLengthCm</th>\n",
       "      <th>PetalWidthCm</th>\n",
       "      <th>Species</th>\n",
       "    </tr>\n",
       "  </thead>\n",
       "  <tbody>\n",
       "    <tr>\n",
       "      <th>145</th>\n",
       "      <td>146</td>\n",
       "      <td>6.7</td>\n",
       "      <td>3.0</td>\n",
       "      <td>5.2</td>\n",
       "      <td>2.3</td>\n",
       "      <td>Iris-virginica</td>\n",
       "    </tr>\n",
       "    <tr>\n",
       "      <th>146</th>\n",
       "      <td>147</td>\n",
       "      <td>6.3</td>\n",
       "      <td>2.5</td>\n",
       "      <td>5.0</td>\n",
       "      <td>1.9</td>\n",
       "      <td>Iris-virginica</td>\n",
       "    </tr>\n",
       "    <tr>\n",
       "      <th>147</th>\n",
       "      <td>148</td>\n",
       "      <td>6.5</td>\n",
       "      <td>3.0</td>\n",
       "      <td>5.2</td>\n",
       "      <td>2.0</td>\n",
       "      <td>Iris-virginica</td>\n",
       "    </tr>\n",
       "    <tr>\n",
       "      <th>148</th>\n",
       "      <td>149</td>\n",
       "      <td>6.2</td>\n",
       "      <td>3.4</td>\n",
       "      <td>5.4</td>\n",
       "      <td>2.3</td>\n",
       "      <td>Iris-virginica</td>\n",
       "    </tr>\n",
       "    <tr>\n",
       "      <th>149</th>\n",
       "      <td>150</td>\n",
       "      <td>5.9</td>\n",
       "      <td>3.0</td>\n",
       "      <td>5.1</td>\n",
       "      <td>1.8</td>\n",
       "      <td>Iris-virginica</td>\n",
       "    </tr>\n",
       "  </tbody>\n",
       "</table>\n",
       "</div>"
      ],
      "text/plain": [
       "      Id  SepalLengthCm  SepalWidthCm  PetalLengthCm  PetalWidthCm  \\\n",
       "145  146            6.7           3.0            5.2           2.3   \n",
       "146  147            6.3           2.5            5.0           1.9   \n",
       "147  148            6.5           3.0            5.2           2.0   \n",
       "148  149            6.2           3.4            5.4           2.3   \n",
       "149  150            5.9           3.0            5.1           1.8   \n",
       "\n",
       "            Species  \n",
       "145  Iris-virginica  \n",
       "146  Iris-virginica  \n",
       "147  Iris-virginica  \n",
       "148  Iris-virginica  \n",
       "149  Iris-virginica  "
      ]
     },
     "execution_count": 5,
     "metadata": {},
     "output_type": "execute_result"
    }
   ],
   "source": [
    "df.tail()"
   ]
  },
  {
   "cell_type": "code",
   "execution_count": 6,
   "id": "9be72916",
   "metadata": {
    "execution": {
     "iopub.execute_input": "2023-06-04T14:45:17.145324Z",
     "iopub.status.busy": "2023-06-04T14:45:17.144388Z",
     "iopub.status.idle": "2023-06-04T14:45:17.158468Z",
     "shell.execute_reply": "2023-06-04T14:45:17.157288Z"
    },
    "papermill": {
     "duration": 0.031404,
     "end_time": "2023-06-04T14:45:17.161171",
     "exception": false,
     "start_time": "2023-06-04T14:45:17.129767",
     "status": "completed"
    },
    "tags": []
   },
   "outputs": [
    {
     "name": "stdout",
     "output_type": "stream",
     "text": [
      "      Id  SepalLengthCm  SepalWidthCm  PetalLengthCm  PetalWidthCm  \\\n",
      "0      1            5.1           3.5            1.4           0.2   \n",
      "1      2            4.9           3.0            1.4           0.2   \n",
      "2      3            4.7           3.2            1.3           0.2   \n",
      "3      4            4.6           3.1            1.5           0.2   \n",
      "4      5            5.0           3.6            1.4           0.2   \n",
      "..   ...            ...           ...            ...           ...   \n",
      "145  146            6.7           3.0            5.2           2.3   \n",
      "146  147            6.3           2.5            5.0           1.9   \n",
      "147  148            6.5           3.0            5.2           2.0   \n",
      "148  149            6.2           3.4            5.4           2.3   \n",
      "149  150            5.9           3.0            5.1           1.8   \n",
      "\n",
      "            Species  \n",
      "0       Iris-setosa  \n",
      "1       Iris-setosa  \n",
      "2       Iris-setosa  \n",
      "3       Iris-setosa  \n",
      "4       Iris-setosa  \n",
      "..              ...  \n",
      "145  Iris-virginica  \n",
      "146  Iris-virginica  \n",
      "147  Iris-virginica  \n",
      "148  Iris-virginica  \n",
      "149  Iris-virginica  \n",
      "\n",
      "[150 rows x 6 columns]\n"
     ]
    }
   ],
   "source": [
    "print(df)"
   ]
  },
  {
   "cell_type": "code",
   "execution_count": 7,
   "id": "23c28436",
   "metadata": {
    "execution": {
     "iopub.execute_input": "2023-06-04T14:45:17.188956Z",
     "iopub.status.busy": "2023-06-04T14:45:17.188475Z",
     "iopub.status.idle": "2023-06-04T14:45:17.224600Z",
     "shell.execute_reply": "2023-06-04T14:45:17.223329Z"
    },
    "papermill": {
     "duration": 0.053578,
     "end_time": "2023-06-04T14:45:17.227539",
     "exception": false,
     "start_time": "2023-06-04T14:45:17.173961",
     "status": "completed"
    },
    "tags": []
   },
   "outputs": [
    {
     "data": {
      "text/html": [
       "<div>\n",
       "<style scoped>\n",
       "    .dataframe tbody tr th:only-of-type {\n",
       "        vertical-align: middle;\n",
       "    }\n",
       "\n",
       "    .dataframe tbody tr th {\n",
       "        vertical-align: top;\n",
       "    }\n",
       "\n",
       "    .dataframe thead th {\n",
       "        text-align: right;\n",
       "    }\n",
       "</style>\n",
       "<table border=\"1\" class=\"dataframe\">\n",
       "  <thead>\n",
       "    <tr style=\"text-align: right;\">\n",
       "      <th></th>\n",
       "      <th>Id</th>\n",
       "      <th>SepalLengthCm</th>\n",
       "      <th>SepalWidthCm</th>\n",
       "      <th>PetalLengthCm</th>\n",
       "      <th>PetalWidthCm</th>\n",
       "    </tr>\n",
       "  </thead>\n",
       "  <tbody>\n",
       "    <tr>\n",
       "      <th>count</th>\n",
       "      <td>150.000000</td>\n",
       "      <td>150.000000</td>\n",
       "      <td>150.000000</td>\n",
       "      <td>150.000000</td>\n",
       "      <td>150.000000</td>\n",
       "    </tr>\n",
       "    <tr>\n",
       "      <th>mean</th>\n",
       "      <td>75.500000</td>\n",
       "      <td>5.843333</td>\n",
       "      <td>3.054000</td>\n",
       "      <td>3.758667</td>\n",
       "      <td>1.198667</td>\n",
       "    </tr>\n",
       "    <tr>\n",
       "      <th>std</th>\n",
       "      <td>43.445368</td>\n",
       "      <td>0.828066</td>\n",
       "      <td>0.433594</td>\n",
       "      <td>1.764420</td>\n",
       "      <td>0.763161</td>\n",
       "    </tr>\n",
       "    <tr>\n",
       "      <th>min</th>\n",
       "      <td>1.000000</td>\n",
       "      <td>4.300000</td>\n",
       "      <td>2.000000</td>\n",
       "      <td>1.000000</td>\n",
       "      <td>0.100000</td>\n",
       "    </tr>\n",
       "    <tr>\n",
       "      <th>25%</th>\n",
       "      <td>38.250000</td>\n",
       "      <td>5.100000</td>\n",
       "      <td>2.800000</td>\n",
       "      <td>1.600000</td>\n",
       "      <td>0.300000</td>\n",
       "    </tr>\n",
       "    <tr>\n",
       "      <th>50%</th>\n",
       "      <td>75.500000</td>\n",
       "      <td>5.800000</td>\n",
       "      <td>3.000000</td>\n",
       "      <td>4.350000</td>\n",
       "      <td>1.300000</td>\n",
       "    </tr>\n",
       "    <tr>\n",
       "      <th>75%</th>\n",
       "      <td>112.750000</td>\n",
       "      <td>6.400000</td>\n",
       "      <td>3.300000</td>\n",
       "      <td>5.100000</td>\n",
       "      <td>1.800000</td>\n",
       "    </tr>\n",
       "    <tr>\n",
       "      <th>max</th>\n",
       "      <td>150.000000</td>\n",
       "      <td>7.900000</td>\n",
       "      <td>4.400000</td>\n",
       "      <td>6.900000</td>\n",
       "      <td>2.500000</td>\n",
       "    </tr>\n",
       "  </tbody>\n",
       "</table>\n",
       "</div>"
      ],
      "text/plain": [
       "               Id  SepalLengthCm  SepalWidthCm  PetalLengthCm  PetalWidthCm\n",
       "count  150.000000     150.000000    150.000000     150.000000    150.000000\n",
       "mean    75.500000       5.843333      3.054000       3.758667      1.198667\n",
       "std     43.445368       0.828066      0.433594       1.764420      0.763161\n",
       "min      1.000000       4.300000      2.000000       1.000000      0.100000\n",
       "25%     38.250000       5.100000      2.800000       1.600000      0.300000\n",
       "50%     75.500000       5.800000      3.000000       4.350000      1.300000\n",
       "75%    112.750000       6.400000      3.300000       5.100000      1.800000\n",
       "max    150.000000       7.900000      4.400000       6.900000      2.500000"
      ]
     },
     "execution_count": 7,
     "metadata": {},
     "output_type": "execute_result"
    }
   ],
   "source": [
    "df.describe()"
   ]
  },
  {
   "cell_type": "code",
   "execution_count": 8,
   "id": "85105c60",
   "metadata": {
    "execution": {
     "iopub.execute_input": "2023-06-04T14:45:17.256045Z",
     "iopub.status.busy": "2023-06-04T14:45:17.255288Z",
     "iopub.status.idle": "2023-06-04T14:45:17.282586Z",
     "shell.execute_reply": "2023-06-04T14:45:17.280937Z"
    },
    "papermill": {
     "duration": 0.045156,
     "end_time": "2023-06-04T14:45:17.285600",
     "exception": false,
     "start_time": "2023-06-04T14:45:17.240444",
     "status": "completed"
    },
    "tags": []
   },
   "outputs": [
    {
     "name": "stdout",
     "output_type": "stream",
     "text": [
      "<class 'pandas.core.frame.DataFrame'>\n",
      "RangeIndex: 150 entries, 0 to 149\n",
      "Data columns (total 6 columns):\n",
      " #   Column         Non-Null Count  Dtype  \n",
      "---  ------         --------------  -----  \n",
      " 0   Id             150 non-null    int64  \n",
      " 1   SepalLengthCm  150 non-null    float64\n",
      " 2   SepalWidthCm   150 non-null    float64\n",
      " 3   PetalLengthCm  150 non-null    float64\n",
      " 4   PetalWidthCm   150 non-null    float64\n",
      " 5   Species        150 non-null    object \n",
      "dtypes: float64(4), int64(1), object(1)\n",
      "memory usage: 7.2+ KB\n"
     ]
    }
   ],
   "source": [
    "df.info()"
   ]
  },
  {
   "cell_type": "code",
   "execution_count": 9,
   "id": "1af46de4",
   "metadata": {
    "execution": {
     "iopub.execute_input": "2023-06-04T14:45:17.314567Z",
     "iopub.status.busy": "2023-06-04T14:45:17.314066Z",
     "iopub.status.idle": "2023-06-04T14:45:17.323942Z",
     "shell.execute_reply": "2023-06-04T14:45:17.322882Z"
    },
    "papermill": {
     "duration": 0.027091,
     "end_time": "2023-06-04T14:45:17.326092",
     "exception": false,
     "start_time": "2023-06-04T14:45:17.299001",
     "status": "completed"
    },
    "tags": []
   },
   "outputs": [
    {
     "data": {
      "text/plain": [
       "Iris-setosa        50\n",
       "Iris-versicolor    50\n",
       "Iris-virginica     50\n",
       "Name: Species, dtype: int64"
      ]
     },
     "execution_count": 9,
     "metadata": {},
     "output_type": "execute_result"
    }
   ],
   "source": [
    "df['Species'].value_counts()"
   ]
  },
  {
   "cell_type": "markdown",
   "id": "7801a6b5",
   "metadata": {
    "papermill": {
     "duration": 0.013069,
     "end_time": "2023-06-04T14:45:17.352436",
     "exception": false,
     "start_time": "2023-06-04T14:45:17.339367",
     "status": "completed"
    },
    "tags": []
   },
   "source": [
    "**VISUALIZING THE DATASET**"
   ]
  },
  {
   "cell_type": "code",
   "execution_count": 10,
   "id": "9c0ed9a8",
   "metadata": {
    "execution": {
     "iopub.execute_input": "2023-06-04T14:45:17.381486Z",
     "iopub.status.busy": "2023-06-04T14:45:17.380239Z",
     "iopub.status.idle": "2023-06-04T14:45:18.517657Z",
     "shell.execute_reply": "2023-06-04T14:45:18.516267Z"
    },
    "papermill": {
     "duration": 1.154602,
     "end_time": "2023-06-04T14:45:18.520410",
     "exception": false,
     "start_time": "2023-06-04T14:45:17.365808",
     "status": "completed"
    },
    "tags": []
   },
   "outputs": [
    {
     "data": {
      "text/plain": [
       "array([[<Axes: title={'center': 'Id'}>,\n",
       "        <Axes: title={'center': 'SepalLengthCm'}>],\n",
       "       [<Axes: title={'center': 'SepalWidthCm'}>,\n",
       "        <Axes: title={'center': 'PetalLengthCm'}>],\n",
       "       [<Axes: title={'center': 'PetalWidthCm'}>, <Axes: >]], dtype=object)"
      ]
     },
     "execution_count": 10,
     "metadata": {},
     "output_type": "execute_result"
    },
    {
     "data": {
      "image/png": "[encoded data removed]",
      "text/plain": [
       "<Figure size 640x480 with 6 Axes>"
      ]
     },
     "metadata": {},
     "output_type": "display_data"
    }
   ],
   "source": [
    "df.hist()"
   ]
  },
  {
   "cell_type": "code",
   "execution_count": 11,
   "id": "3a22da28",
   "metadata": {
    "execution": {
     "iopub.execute_input": "2023-06-04T14:45:18.550375Z",
     "iopub.status.busy": "2023-06-04T14:45:18.549941Z",
     "iopub.status.idle": "2023-06-04T14:45:26.189061Z",
     "shell.execute_reply": "2023-06-04T14:45:26.188091Z"
    },
    "papermill": {
     "duration": 7.658894,
     "end_time": "2023-06-04T14:45:26.193390",
     "exception": false,
     "start_time": "2023-06-04T14:45:18.534496",
     "status": "completed"
    },
    "tags": []
   },
   "outputs": [
    {
     "data": {
      "image/png": "[encoded data removed]",
      "text/plain": [
       "<Figure size 750x750 with 30 Axes>"
      ]
     },
     "metadata": {},
     "output_type": "display_data"
    }
   ],
   "source": [
    "sns.pairplot(df,height=1.5)\n",
    "plt.show()"
   ]
  },
  {
   "cell_type": "code",
   "execution_count": 12,
   "id": "37145695",
   "metadata": {
    "execution": {
     "iopub.execute_input": "2023-06-04T14:45:26.230052Z",
     "iopub.status.busy": "2023-06-04T14:45:26.229601Z",
     "iopub.status.idle": "2023-06-04T14:45:26.249583Z",
     "shell.execute_reply": "2023-06-04T14:45:26.248323Z"
    },
    "papermill": {
     "duration": 0.041495,
     "end_time": "2023-06-04T14:45:26.252223",
     "exception": false,
     "start_time": "2023-06-04T14:45:26.210728",
     "status": "completed"
    },
    "tags": []
   },
   "outputs": [
    {
     "name": "stderr",
     "output_type": "stream",
     "text": [
      "/tmp/ipykernel_20/1134722465.py:1: FutureWarning: The default value of numeric_only in DataFrame.corr is deprecated. In a future version, it will default to False. Select only valid columns or specify the value of numeric_only to silence this warning.\n",
      "  df.corr()\n"
     ]
    },
    {
     "data": {
      "text/html": [
       "<div>\n",
       "<style scoped>\n",
       "    .dataframe tbody tr th:only-of-type {\n",
       "        vertical-align: middle;\n",
       "    }\n",
       "\n",
       "    .dataframe tbody tr th {\n",
       "        vertical-align: top;\n",
       "    }\n",
       "\n",
       "    .dataframe thead th {\n",
       "        text-align: right;\n",
       "    }\n",
       "</style>\n",
       "<table border=\"1\" class=\"dataframe\">\n",
       "  <thead>\n",
       "    <tr style=\"text-align: right;\">\n",
       "      <th></th>\n",
       "      <th>Id</th>\n",
       "      <th>SepalLengthCm</th>\n",
       "      <th>SepalWidthCm</th>\n",
       "      <th>PetalLengthCm</th>\n",
       "      <th>PetalWidthCm</th>\n",
       "    </tr>\n",
       "  </thead>\n",
       "  <tbody>\n",
       "    <tr>\n",
       "      <th>Id</th>\n",
       "      <td>1.000000</td>\n",
       "      <td>0.716676</td>\n",
       "      <td>-0.397729</td>\n",
       "      <td>0.882747</td>\n",
       "      <td>0.899759</td>\n",
       "    </tr>\n",
       "    <tr>\n",
       "      <th>SepalLengthCm</th>\n",
       "      <td>0.716676</td>\n",
       "      <td>1.000000</td>\n",
       "      <td>-0.109369</td>\n",
       "      <td>0.871754</td>\n",
       "      <td>0.817954</td>\n",
       "    </tr>\n",
       "    <tr>\n",
       "      <th>SepalWidthCm</th>\n",
       "      <td>-0.397729</td>\n",
       "      <td>-0.109369</td>\n",
       "      <td>1.000000</td>\n",
       "      <td>-0.420516</td>\n",
       "      <td>-0.356544</td>\n",
       "    </tr>\n",
       "    <tr>\n",
       "      <th>PetalLengthCm</th>\n",
       "      <td>0.882747</td>\n",
       "      <td>0.871754</td>\n",
       "      <td>-0.420516</td>\n",
       "      <td>1.000000</td>\n",
       "      <td>0.962757</td>\n",
       "    </tr>\n",
       "    <tr>\n",
       "      <th>PetalWidthCm</th>\n",
       "      <td>0.899759</td>\n",
       "      <td>0.817954</td>\n",
       "      <td>-0.356544</td>\n",
       "      <td>0.962757</td>\n",
       "      <td>1.000000</td>\n",
       "    </tr>\n",
       "  </tbody>\n",
       "</table>\n",
       "</div>"
      ],
      "text/plain": [
       "                     Id  SepalLengthCm  SepalWidthCm  PetalLengthCm  \\\n",
       "Id             1.000000       0.716676     -0.397729       0.882747   \n",
       "SepalLengthCm  0.716676       1.000000     -0.109369       0.871754   \n",
       "SepalWidthCm  -0.397729      -0.109369      1.000000      -0.420516   \n",
       "PetalLengthCm  0.882747       0.871754     -0.420516       1.000000   \n",
       "PetalWidthCm   0.899759       0.817954     -0.356544       0.962757   \n",
       "\n",
       "               PetalWidthCm  \n",
       "Id                 0.899759  \n",
       "SepalLengthCm      0.817954  \n",
       "SepalWidthCm      -0.356544  \n",
       "PetalLengthCm      0.962757  \n",
       "PetalWidthCm       1.000000  "
      ]
     },
     "execution_count": 12,
     "metadata": {},
     "output_type": "execute_result"
    }
   ],
   "source": [
    "df.corr()"
   ]
  },
  {
   "cell_type": "code",
   "execution_count": 13,
   "id": "be41415c",
   "metadata": {
    "execution": {
     "iopub.execute_input": "2023-06-04T14:45:26.289184Z",
     "iopub.status.busy": "2023-06-04T14:45:26.287808Z",
     "iopub.status.idle": "2023-06-04T14:45:26.760295Z",
     "shell.execute_reply": "2023-06-04T14:45:26.758793Z"
    },
    "papermill": {
     "duration": 0.494035,
     "end_time": "2023-06-04T14:45:26.762922",
     "exception": false,
     "start_time": "2023-06-04T14:45:26.268887",
     "status": "completed"
    },
    "tags": []
   },
   "outputs": [
    {
     "name": "stderr",
     "output_type": "stream",
     "text": [
      "/tmp/ipykernel_20/3214128657.py:1: FutureWarning: The default value of numeric_only in DataFrame.corr is deprecated. In a future version, it will default to False. Select only valid columns or specify the value of numeric_only to silence this warning.\n",
      "  corr=df.corr()\n"
     ]
    },
    {
     "data": {
      "text/plain": [
       "<Axes: >"
      ]
     },
     "execution_count": 13,
     "metadata": {},
     "output_type": "execute_result"
    },
    {
     "data": {
      "image/png": "[encoded data removed]",
      "text/plain": [
       "<Figure size 500x400 with 2 Axes>"
      ]
     },
     "metadata": {},
     "output_type": "display_data"
    }
   ],
   "source": [
    "corr=df.corr()\n",
    "fig,ax=plt.subplots(figsize=(5,4))\n",
    "sns.heatmap(corr,annot=True,ax=ax)"
   ]
  },
  {
   "cell_type": "markdown",
   "id": "eff6e4cf",
   "metadata": {
    "papermill": {
     "duration": 0.016885,
     "end_time": "2023-06-04T14:45:26.797079",
     "exception": false,
     "start_time": "2023-06-04T14:45:26.780194",
     "status": "completed"
    },
    "tags": []
   },
   "source": [
    "**MODEL TRAINING**"
   ]
  },
  {
   "cell_type": "code",
   "execution_count": 14,
   "id": "3ea7d1f8",
   "metadata": {
    "execution": {
     "iopub.execute_input": "2023-06-04T14:45:26.833819Z",
     "iopub.status.busy": "2023-06-04T14:45:26.833405Z",
     "iopub.status.idle": "2023-06-04T14:45:26.840131Z",
     "shell.execute_reply": "2023-06-04T14:45:26.838629Z"
    },
    "papermill": {
     "duration": 0.028499,
     "end_time": "2023-06-04T14:45:26.842988",
     "exception": false,
     "start_time": "2023-06-04T14:45:26.814489",
     "status": "completed"
    },
    "tags": []
   },
   "outputs": [],
   "source": [
    "data=df.values\n",
    "x=data[:,0:4]\n",
    "y=data[:,4]"
   ]
  },
  {
   "cell_type": "code",
   "execution_count": 15,
   "id": "0393db56",
   "metadata": {
    "execution": {
     "iopub.execute_input": "2023-06-04T14:45:26.882251Z",
     "iopub.status.busy": "2023-06-04T14:45:26.880747Z",
     "iopub.status.idle": "2023-06-04T14:45:26.891223Z",
     "shell.execute_reply": "2023-06-04T14:45:26.889923Z"
    },
    "papermill": {
     "duration": 0.032739,
     "end_time": "2023-06-04T14:45:26.893876",
     "exception": false,
     "start_time": "2023-06-04T14:45:26.861137",
     "status": "completed"
    },
    "tags": []
   },
   "outputs": [
    {
     "name": "stdout",
     "output_type": "stream",
     "text": [
      "[[1 5.1 3.5 1.4]\n",
      " [2 4.9 3.0 1.4]\n",
      " [3 4.7 3.2 1.3]\n",
      " [4 4.6 3.1 1.5]\n",
      " [5 5.0 3.6 1.4]\n",
      " [6 5.4 3.9 1.7]\n",
      " [7 4.6 3.4 1.4]\n",
      " [8 5.0 3.4 1.5]\n",
      " [9 4.4 2.9 1.4]\n",
      " [10 4.9 3.1 1.5]\n",
      " [11 5.4 3.7 1.5]\n",
      " [12 4.8 3.4 1.6]\n",
      " [13 4.8 3.0 1.4]\n",
      " [14 4.3 3.0 1.1]\n",
      " [15 5.8 4.0 1.2]\n",
      " [16 5.7 4.4 1.5]\n",
      " [17 5.4 3.9 1.3]\n",
      " [18 5.1 3.5 1.4]\n",
      " [19 5.7 3.8 1.7]\n",
      " [20 5.1 3.8 1.5]\n",
      " [21 5.4 3.4 1.7]\n",
      " [22 5.1 3.7 1.5]\n",
      " [23 4.6 3.6 1.0]\n",
      " [24 5.1 3.3 1.7]\n",
      " [25 4.8 3.4 1.9]\n",
      " [26 5.0 3.0 1.6]\n",
      " [27 5.0 3.4 1.6]\n",
      " [28 5.2 3.5 1.5]\n",
      " [29 5.2 3.4 1.4]\n",
      " [30 4.7 3.2 1.6]\n",
      " [31 4.8 3.1 1.6]\n",
      " [32 5.4 3.4 1.5]\n",
      " [33 5.2 4.1 1.5]\n",
      " [34 5.5 4.2 1.4]\n",
      " [35 4.9 3.1 1.5]\n",
      " [36 5.0 3.2 1.2]\n",
      " [37 5.5 3.5 1.3]\n",
      " [38 4.9 3.1 1.5]\n",
      " [39 4.4 3.0 1.3]\n",
      " [40 5.1 3.4 1.5]\n",
      " [41 5.0 3.5 1.3]\n",
      " [42 4.5 2.3 1.3]\n",
      " [43 4.4 3.2 1.3]\n",
      " [44 5.0 3.5 1.6]\n",
      " [45 5.1 3.8 1.9]\n",
      " [46 4.8 3.0 1.4]\n",
      " [47 5.1 3.8 1.6]\n",
      " [48 4.6 3.2 1.4]\n",
      " [49 5.3 3.7 1.5]\n",
      " [50 5.0 3.3 1.4]\n",
      " [51 7.0 3.2 4.7]\n",
      " [52 6.4 3.2 4.5]\n",
      " [53 6.9 3.1 4.9]\n",
      " [54 5.5 2.3 4.0]\n",
      " [55 6.5 2.8 4.6]\n",
      " [56 5.7 2.8 4.5]\n",
      " [57 6.3 3.3 4.7]\n",
      " [58 4.9 2.4 3.3]\n",
      " [59 6.6 2.9 4.6]\n",
      " [60 5.2 2.7 3.9]\n",
      " [61 5.0 2.0 3.5]\n",
      " [62 5.9 3.0 4.2]\n",
      " [63 6.0 2.2 4.0]\n",
      " [64 6.1 2.9 4.7]\n",
      " [65 5.6 2.9 3.6]\n",
      " [66 6.7 3.1 4.4]\n",
      " [67 5.6 3.0 4.5]\n",
      " [68 5.8 2.7 4.1]\n",
      " [69 6.2 2.2 4.5]\n",
      " [70 5.6 2.5 3.9]\n",
      " [71 5.9 3.2 4.8]\n",
      " [72 6.1 2.8 4.0]\n",
      " [73 6.3 2.5 4.9]\n",
      " [74 6.1 2.8 4.7]\n",
      " [75 6.4 2.9 4.3]\n",
      " [76 6.6 3.0 4.4]\n",
      " [77 6.8 2.8 4.8]\n",
      " [78 6.7 3.0 5.0]\n",
      " [79 6.0 2.9 4.5]\n",
      " [80 5.7 2.6 3.5]\n",
      " [81 5.5 2.4 3.8]\n",
      " [82 5.5 2.4 3.7]\n",
      " [83 5.8 2.7 3.9]\n",
      " [84 6.0 2.7 5.1]\n",
      " [85 5.4 3.0 4.5]\n",
      " [86 6.0 3.4 4.5]\n",
      " [87 6.7 3.1 4.7]\n",
      " [88 6.3 2.3 4.4]\n",
      " [89 5.6 3.0 4.1]\n",
      " [90 5.5 2.5 4.0]\n",
      " [91 5.5 2.6 4.4]\n",
      " [92 6.1 3.0 4.6]\n",
      " [93 5.8 2.6 4.0]\n",
      " [94 5.0 2.3 3.3]\n",
      " [95 5.6 2.7 4.2]\n",
      " [96 5.7 3.0 4.2]\n",
      " [97 5.7 2.9 4.2]\n",
      " [98 6.2 2.9 4.3]\n",
      " [99 5.1 2.5 3.0]\n",
      " [100 5.7 2.8 4.1]\n",
      " [101 6.3 3.3 6.0]\n",
      " [102 5.8 2.7 5.1]\n",
      " [103 7.1 3.0 5.9]\n",
      " [104 6.3 2.9 5.6]\n",
      " [105 6.5 3.0 5.8]\n",
      " [106 7.6 3.0 6.6]\n",
      " [107 4.9 2.5 4.5]\n",
      " [108 7.3 2.9 6.3]\n",
      " [109 6.7 2.5 5.8]\n",
      " [110 7.2 3.6 6.1]\n",
      " [111 6.5 3.2 5.1]\n",
      " [112 6.4 2.7 5.3]\n",
      " [113 6.8 3.0 5.5]\n",
      " [114 5.7 2.5 5.0]\n",
      " [115 5.8 2.8 5.1]\n",
      " [116 6.4 3.2 5.3]\n",
      " [117 6.5 3.0 5.5]\n",
      " [118 7.7 3.8 6.7]\n",
      " [119 7.7 2.6 6.9]\n",
      " [120 6.0 2.2 5.0]\n",
      " [121 6.9 3.2 5.7]\n",
      " [122 5.6 2.8 4.9]\n",
      " [123 7.7 2.8 6.7]\n",
      " [124 6.3 2.7 4.9]\n",
      " [125 6.7 3.3 5.7]\n",
      " [126 7.2 3.2 6.0]\n",
      " [127 6.2 2.8 4.8]\n",
      " [128 6.1 3.0 4.9]\n",
      " [129 6.4 2.8 5.6]\n",
      " [130 7.2 3.0 5.8]\n",
      " [131 7.4 2.8 6.1]\n",
      " [132 7.9 3.8 6.4]\n",
      " [133 6.4 2.8 5.6]\n",
      " [134 6.3 2.8 5.1]\n",
      " [135 6.1 2.6 5.6]\n",
      " [136 7.7 3.0 6.1]\n",
      " [137 6.3 3.4 5.6]\n",
      " [138 6.4 3.1 5.5]\n",
      " [139 6.0 3.0 4.8]\n",
      " [140 6.9 3.1 5.4]\n",
      " [141 6.7 3.1 5.6]\n",
      " [142 6.9 3.1 5.1]\n",
      " [143 5.8 2.7 5.1]\n",
      " [144 6.8 3.2 5.9]\n",
      " [145 6.7 3.3 5.7]\n",
      " [146 6.7 3.0 5.2]\n",
      " [147 6.3 2.5 5.0]\n",
      " [148 6.5 3.0 5.2]\n",
      " [149 6.2 3.4 5.4]\n",
      " [150 5.9 3.0 5.1]]\n"
     ]
    }
   ],
   "source": [
    "print(x)"
   ]
  },
  {
   "cell_type": "code",
   "execution_count": 16,
   "id": "12e5258a",
   "metadata": {
    "execution": {
     "iopub.execute_input": "2023-06-04T14:45:26.931650Z",
     "iopub.status.busy": "2023-06-04T14:45:26.930708Z",
     "iopub.status.idle": "2023-06-04T14:45:26.937414Z",
     "shell.execute_reply": "2023-06-04T14:45:26.936148Z"
    },
    "papermill": {
     "duration": 0.028182,
     "end_time": "2023-06-04T14:45:26.939760",
     "exception": false,
     "start_time": "2023-06-04T14:45:26.911578",
     "status": "completed"
    },
    "tags": []
   },
   "outputs": [
    {
     "name": "stdout",
     "output_type": "stream",
     "text": [
      "[0.2 0.2 0.2 0.2 0.2 0.4 0.3 0.2 0.2 0.1 0.2 0.2 0.1 0.1 0.2 0.4 0.4 0.3\n",
      " 0.3 0.3 0.2 0.4 0.2 0.5 0.2 0.2 0.4 0.2 0.2 0.2 0.2 0.4 0.1 0.2 0.1 0.2\n",
      " 0.2 0.1 0.2 0.2 0.3 0.3 0.2 0.6 0.4 0.3 0.2 0.2 0.2 0.2 1.4 1.5 1.5 1.3\n",
      " 1.5 1.3 1.6 1.0 1.3 1.4 1.0 1.5 1.0 1.4 1.3 1.4 1.5 1.0 1.5 1.1 1.8 1.3\n",
      " 1.5 1.2 1.3 1.4 1.4 1.7 1.5 1.0 1.1 1.0 1.2 1.6 1.5 1.6 1.5 1.3 1.3 1.3\n",
      " 1.2 1.4 1.2 1.0 1.3 1.2 1.3 1.3 1.1 1.3 2.5 1.9 2.1 1.8 2.2 2.1 1.7 1.8\n",
      " 1.8 2.5 2.0 1.9 2.1 2.0 2.4 2.3 1.8 2.2 2.3 1.5 2.3 2.0 2.0 1.8 2.1 1.8\n",
      " 1.8 1.8 2.1 1.6 1.9 2.0 2.2 1.5 1.4 2.3 2.4 1.8 1.8 2.1 2.4 2.3 1.9 2.3\n",
      " 2.5 2.3 1.9 2.0 2.3 1.8]\n"
     ]
    }
   ],
   "source": [
    "print(y)"
   ]
  },
  {
   "cell_type": "code",
   "execution_count": 17,
   "id": "39e2fcb4",
   "metadata": {
    "execution": {
     "iopub.execute_input": "2023-06-04T14:45:26.978751Z",
     "iopub.status.busy": "2023-06-04T14:45:26.978305Z",
     "iopub.status.idle": "2023-06-04T14:45:27.274959Z",
     "shell.execute_reply": "2023-06-04T14:45:27.273512Z"
    },
    "papermill": {
     "duration": 0.319285,
     "end_time": "2023-06-04T14:45:27.278072",
     "exception": false,
     "start_time": "2023-06-04T14:45:26.958787",
     "status": "completed"
    },
    "tags": []
   },
   "outputs": [],
   "source": [
    "from sklearn.model_selection import train_test_split\n",
    "x_train,x_test,y_train,y_test=train_test_split(x,y,test_size=0.2)"
   ]
  },
  {
   "cell_type": "code",
   "execution_count": 18,
   "id": "5a83e400",
   "metadata": {
    "execution": {
     "iopub.execute_input": "2023-06-04T14:45:27.315819Z",
     "iopub.status.busy": "2023-06-04T14:45:27.315374Z",
     "iopub.status.idle": "2023-06-04T14:45:27.324613Z",
     "shell.execute_reply": "2023-06-04T14:45:27.323144Z"
    },
    "papermill": {
     "duration": 0.031311,
     "end_time": "2023-06-04T14:45:27.327426",
     "exception": false,
     "start_time": "2023-06-04T14:45:27.296115",
     "status": "completed"
    },
    "tags": []
   },
   "outputs": [
    {
     "name": "stdout",
     "output_type": "stream",
     "text": [
      "[[133 6.4 2.8 5.6]\n",
      " [144 6.8 3.2 5.9]\n",
      " [85 5.4 3.0 4.5]\n",
      " [105 6.5 3.0 5.8]\n",
      " [145 6.7 3.3 5.7]\n",
      " [106 7.6 3.0 6.6]\n",
      " [129 6.4 2.8 5.6]\n",
      " [16 5.7 4.4 1.5]\n",
      " [121 6.9 3.2 5.7]\n",
      " [127 6.2 2.8 4.8]\n",
      " [31 4.8 3.1 1.6]\n",
      " [17 5.4 3.9 1.3]\n",
      " [29 5.2 3.4 1.4]\n",
      " [86 6.0 3.4 4.5]\n",
      " [118 7.7 3.8 6.7]\n",
      " [38 4.9 3.1 1.5]\n",
      " [45 5.1 3.8 1.9]\n",
      " [82 5.5 2.4 3.7]\n",
      " [141 6.7 3.1 5.6]\n",
      " [93 5.8 2.6 4.0]\n",
      " [104 6.3 2.9 5.6]\n",
      " [115 5.8 2.8 5.1]\n",
      " [32 5.4 3.4 1.5]\n",
      " [22 5.1 3.7 1.5]\n",
      " [111 6.5 3.2 5.1]\n",
      " [7 4.6 3.4 1.4]\n",
      " [40 5.1 3.4 1.5]\n",
      " [74 6.1 2.8 4.7]\n",
      " [10 4.9 3.1 1.5]\n",
      " [46 4.8 3.0 1.4]\n",
      " [37 5.5 3.5 1.3]\n",
      " [110 7.2 3.6 6.1]\n",
      " [54 5.5 2.3 4.0]\n",
      " [21 5.4 3.4 1.7]\n",
      " [81 5.5 2.4 3.8]\n",
      " [79 6.0 2.9 4.5]\n",
      " [107 4.9 2.5 4.5]\n",
      " [59 6.6 2.9 4.6]\n",
      " [103 7.1 3.0 5.9]\n",
      " [48 4.6 3.2 1.4]\n",
      " [64 6.1 2.9 4.7]\n",
      " [147 6.3 2.5 5.0]\n",
      " [137 6.3 3.4 5.6]\n",
      " [15 5.8 4.0 1.2]\n",
      " [3 4.7 3.2 1.3]\n",
      " [109 6.7 2.5 5.8]\n",
      " [124 6.3 2.7 4.9]\n",
      " [87 6.7 3.1 4.7]\n",
      " [30 4.7 3.2 1.6]\n",
      " [75 6.4 2.9 4.3]\n",
      " [77 6.8 2.8 4.8]\n",
      " [92 6.1 3.0 4.6]\n",
      " [113 6.8 3.0 5.5]\n",
      " [61 5.0 2.0 3.5]\n",
      " [23 4.6 3.6 1.0]\n",
      " [132 7.9 3.8 6.4]\n",
      " [5 5.0 3.6 1.4]\n",
      " [25 4.8 3.4 1.9]\n",
      " [2 4.9 3.0 1.4]\n",
      " [19 5.7 3.8 1.7]\n",
      " [88 6.3 2.3 4.4]\n",
      " [112 6.4 2.7 5.3]\n",
      " [68 5.8 2.7 4.1]\n",
      " [49 5.3 3.7 1.5]\n",
      " [80 5.7 2.6 3.5]\n",
      " [143 5.8 2.7 5.1]\n",
      " [94 5.0 2.3 3.3]\n",
      " [50 5.0 3.3 1.4]\n",
      " [101 6.3 3.3 6.0]\n",
      " [84 6.0 2.7 5.1]\n",
      " [91 5.5 2.6 4.4]\n",
      " [6 5.4 3.9 1.7]\n",
      " [51 7.0 3.2 4.7]\n",
      " [33 5.2 4.1 1.5]\n",
      " [36 5.0 3.2 1.2]\n",
      " [97 5.7 2.9 4.2]\n",
      " [83 5.8 2.7 3.9]\n",
      " [70 5.6 2.5 3.9]\n",
      " [139 6.0 3.0 4.8]\n",
      " [140 6.9 3.1 5.4]\n",
      " [56 5.7 2.8 4.5]\n",
      " [11 5.4 3.7 1.5]\n",
      " [131 7.4 2.8 6.1]\n",
      " [43 4.4 3.2 1.3]\n",
      " [100 5.7 2.8 4.1]\n",
      " [117 6.5 3.0 5.5]\n",
      " [78 6.7 3.0 5.0]\n",
      " [12 4.8 3.4 1.6]\n",
      " [18 5.1 3.5 1.4]\n",
      " [20 5.1 3.8 1.5]\n",
      " [57 6.3 3.3 4.7]\n",
      " [13 4.8 3.0 1.4]\n",
      " [95 5.6 2.7 4.2]\n",
      " [89 5.6 3.0 4.1]\n",
      " [9 4.4 2.9 1.4]\n",
      " [55 6.5 2.8 4.6]\n",
      " [116 6.4 3.2 5.3]\n",
      " [149 6.2 3.4 5.4]\n",
      " [122 5.6 2.8 4.9]\n",
      " [138 6.4 3.1 5.5]\n",
      " [98 6.2 2.9 4.3]\n",
      " [128 6.1 3.0 4.9]\n",
      " [42 4.5 2.3 1.3]\n",
      " [24 5.1 3.3 1.7]\n",
      " [136 7.7 3.0 6.1]\n",
      " [135 6.1 2.6 5.6]\n",
      " [60 5.2 2.7 3.9]\n",
      " [108 7.3 2.9 6.3]\n",
      " [134 6.3 2.8 5.1]\n",
      " [126 7.2 3.2 6.0]\n",
      " [76 6.6 3.0 4.4]\n",
      " [120 6.0 2.2 5.0]\n",
      " [102 5.8 2.7 5.1]\n",
      " [58 4.9 2.4 3.3]\n",
      " [71 5.9 3.2 4.8]\n",
      " [123 7.7 2.8 6.7]\n",
      " [53 6.9 3.1 4.9]\n",
      " [146 6.7 3.0 5.2]\n",
      " [142 6.9 3.1 5.1]\n",
      " [28 5.2 3.5 1.5]]\n"
     ]
    }
   ],
   "source": [
    "print(x_train)"
   ]
  },
  {
   "cell_type": "code",
   "execution_count": 19,
   "id": "ca02a2dc",
   "metadata": {
    "execution": {
     "iopub.execute_input": "2023-06-04T14:45:27.365241Z",
     "iopub.status.busy": "2023-06-04T14:45:27.364753Z",
     "iopub.status.idle": "2023-06-04T14:45:27.372012Z",
     "shell.execute_reply": "2023-06-04T14:45:27.370475Z"
    },
    "papermill": {
     "duration": 0.029441,
     "end_time": "2023-06-04T14:45:27.374743",
     "exception": false,
     "start_time": "2023-06-04T14:45:27.345302",
     "status": "completed"
    },
    "tags": []
   },
   "outputs": [
    {
     "name": "stdout",
     "output_type": "stream",
     "text": [
      "[2.2 2.3 1.5 2.2 2.5 2.1 2.1 0.4 2.3 1.8 0.2 0.4 0.2 1.6 2.2 0.1 0.4 1.0\n",
      " 2.4 1.2 1.8 2.4 0.4 0.4 2.0 0.3 0.2 1.2 0.1 0.3 0.2 2.5 1.3 0.2 1.1 1.5\n",
      " 1.7 1.3 2.1 0.2 1.4 1.9 2.4 0.2 0.2 1.8 1.8 1.5 0.2 1.3 1.4 1.4 2.1 1.0\n",
      " 0.2 2.0 0.2 0.2 0.2 0.3 1.3 1.9 1.0 0.2 1.0 1.9 1.0 0.2 2.5 1.6 1.2 0.4\n",
      " 1.4 0.1 0.2 1.3 1.2 1.1 1.8 2.1 1.3 0.2 1.9 0.2 1.3 1.8 1.7 0.2 0.3 0.3\n",
      " 1.6 0.1 1.3 1.3 0.2 1.5 2.3 2.3 2.0 1.8 1.3 1.8 0.3 0.5 2.3 1.4 1.4 1.8\n",
      " 1.5 1.8 1.4 1.5 1.9 1.0 1.8 2.0 1.5 2.3 2.3 0.2]\n"
     ]
    }
   ],
   "source": [
    "print(y_train)"
   ]
  },
  {
   "cell_type": "code",
   "execution_count": 20,
   "id": "4db26d5a",
   "metadata": {
    "execution": {
     "iopub.execute_input": "2023-06-04T14:45:27.412756Z",
     "iopub.status.busy": "2023-06-04T14:45:27.412323Z",
     "iopub.status.idle": "2023-06-04T14:45:27.419225Z",
     "shell.execute_reply": "2023-06-04T14:45:27.417793Z"
    },
    "papermill": {
     "duration": 0.029338,
     "end_time": "2023-06-04T14:45:27.422035",
     "exception": false,
     "start_time": "2023-06-04T14:45:27.392697",
     "status": "completed"
    },
    "tags": []
   },
   "outputs": [
    {
     "name": "stdout",
     "output_type": "stream",
     "text": [
      "[[63 6.0 2.2 4.0]\n",
      " [8 5.0 3.4 1.5]\n",
      " [26 5.0 3.0 1.6]\n",
      " [65 5.6 2.9 3.6]\n",
      " [27 5.0 3.4 1.6]\n",
      " [148 6.5 3.0 5.2]\n",
      " [41 5.0 3.5 1.3]\n",
      " [34 5.5 4.2 1.4]\n",
      " [130 7.2 3.0 5.8]\n",
      " [67 5.6 3.0 4.5]\n",
      " [4 4.6 3.1 1.5]\n",
      " [114 5.7 2.5 5.0]\n",
      " [44 5.0 3.5 1.6]\n",
      " [66 6.7 3.1 4.4]\n",
      " [35 4.9 3.1 1.5]\n",
      " [1 5.1 3.5 1.4]\n",
      " [39 4.4 3.0 1.3]\n",
      " [72 6.1 2.8 4.0]\n",
      " [96 5.7 3.0 4.2]\n",
      " [150 5.9 3.0 5.1]\n",
      " [119 7.7 2.6 6.9]\n",
      " [14 4.3 3.0 1.1]\n",
      " [47 5.1 3.8 1.6]\n",
      " [73 6.3 2.5 4.9]\n",
      " [69 6.2 2.2 4.5]\n",
      " [99 5.1 2.5 3.0]\n",
      " [52 6.4 3.2 4.5]\n",
      " [62 5.9 3.0 4.2]\n",
      " [125 6.7 3.3 5.7]\n",
      " [90 5.5 2.5 4.0]]\n"
     ]
    }
   ],
   "source": [
    "print(x_test)"
   ]
  },
  {
   "cell_type": "code",
   "execution_count": 21,
   "id": "949fa4d4",
   "metadata": {
    "execution": {
     "iopub.execute_input": "2023-06-04T14:45:27.461074Z",
     "iopub.status.busy": "2023-06-04T14:45:27.460600Z",
     "iopub.status.idle": "2023-06-04T14:45:27.467273Z",
     "shell.execute_reply": "2023-06-04T14:45:27.466081Z"
    },
    "papermill": {
     "duration": 0.030254,
     "end_time": "2023-06-04T14:45:27.470275",
     "exception": false,
     "start_time": "2023-06-04T14:45:27.440021",
     "status": "completed"
    },
    "tags": []
   },
   "outputs": [
    {
     "name": "stdout",
     "output_type": "stream",
     "text": [
      "[1.0 0.2 0.2 1.3 0.4 2.0 0.3 0.2 1.6 1.5 0.2 2.0 0.6 1.4 0.1 0.2 0.2 1.3\n",
      " 1.2 1.8 2.3 0.1 0.2 1.5 1.5 1.1 1.5 1.5 2.1 1.3]\n"
     ]
    }
   ],
   "source": [
    "print(y_test)"
   ]
  },
  {
   "cell_type": "markdown",
   "id": "1ff7b424",
   "metadata": {
    "papermill": {
     "duration": 0.017814,
     "end_time": "2023-06-04T14:45:27.506324",
     "exception": false,
     "start_time": "2023-06-04T14:45:27.488510",
     "status": "completed"
    },
    "tags": []
   },
   "source": [
    "**MODEL-1:SUPPORT VECTOR MACHINE**"
   ]
  },
  {
   "cell_type": "code",
   "execution_count": 22,
   "id": "de3b32a1",
   "metadata": {
    "execution": {
     "iopub.execute_input": "2023-06-04T14:45:27.544794Z",
     "iopub.status.busy": "2023-06-04T14:45:27.544352Z",
     "iopub.status.idle": "2023-06-04T14:45:28.608928Z",
     "shell.execute_reply": "2023-06-04T14:45:28.607108Z"
    },
    "papermill": {
     "duration": 1.086613,
     "end_time": "2023-06-04T14:45:28.611192",
     "exception": true,
     "start_time": "2023-06-04T14:45:27.524579",
     "status": "failed"
    },
    "tags": []
   },
   "outputs": [
    {
     "ename": "ValueError",
     "evalue": "Unknown label type: 'unknown'",
     "output_type": "error",
     "traceback": [
      "\u001b[0;31m---------------------------------------------------------------------------\u001b[0m",
      "\u001b[0;31mValueError\u001b[0m                                Traceback (most recent call last)",
      "Cell \u001b[0;32mIn[22], line 3\u001b[0m\n\u001b[1;32m      1\u001b[0m \u001b[38;5;28;01mfrom\u001b[39;00m \u001b[38;5;21;01msklearn\u001b[39;00m\u001b[38;5;21;01m.\u001b[39;00m\u001b[38;5;21;01msvm\u001b[39;00m \u001b[38;5;28;01mimport\u001b[39;00m SVC\n\u001b[1;32m      2\u001b[0m model_svc\u001b[38;5;241m=\u001b[39mSVC()\n\u001b[0;32m----> 3\u001b[0m \u001b[43mmodel_svc\u001b[49m\u001b[38;5;241;43m.\u001b[39;49m\u001b[43mfit\u001b[49m\u001b[43m(\u001b[49m\u001b[43mx_train\u001b[49m\u001b[43m,\u001b[49m\u001b[43my_train\u001b[49m\u001b[43m)\u001b[49m\n\u001b[1;32m      4\u001b[0m pred1\u001b[38;5;241m=\u001b[39mmodel_svc\u001b[38;5;241m.\u001b[39mpredict(x_test)\n\u001b[1;32m      5\u001b[0m \u001b[38;5;28;01mfrom\u001b[39;00m \u001b[38;5;21;01msklearn\u001b[39;00m\u001b[38;5;21;01m.\u001b[39;00m\u001b[38;5;21;01mmetrics\u001b[39;00m \u001b[38;5;28;01mimport\u001b[39;00m accuracy_score\n",
      "File \u001b[0;32m/opt/conda/lib/python3.10/site-packages/sklearn/svm/_base.py:201\u001b[0m, in \u001b[0;36mBaseLibSVM.fit\u001b[0;34m(self, X, y, sample_weight)\u001b[0m\n\u001b[1;32m    191\u001b[0m \u001b[38;5;28;01melse\u001b[39;00m:\n\u001b[1;32m    192\u001b[0m     X, y \u001b[38;5;241m=\u001b[39m \u001b[38;5;28mself\u001b[39m\u001b[38;5;241m.\u001b[39m_validate_data(\n\u001b[1;32m    193\u001b[0m         X,\n\u001b[1;32m    194\u001b[0m         y,\n\u001b[0;32m   (...)\u001b[0m\n\u001b[1;32m    198\u001b[0m         accept_large_sparse\u001b[38;5;241m=\u001b[39m\u001b[38;5;28;01mFalse\u001b[39;00m,\n\u001b[1;32m    199\u001b[0m     )\n\u001b[0;32m--> 201\u001b[0m y \u001b[38;5;241m=\u001b[39m \u001b[38;5;28;43mself\u001b[39;49m\u001b[38;5;241;43m.\u001b[39;49m\u001b[43m_validate_targets\u001b[49m\u001b[43m(\u001b[49m\u001b[43my\u001b[49m\u001b[43m)\u001b[49m\n\u001b[1;32m    203\u001b[0m sample_weight \u001b[38;5;241m=\u001b[39m np\u001b[38;5;241m.\u001b[39masarray(\n\u001b[1;32m    204\u001b[0m     [] \u001b[38;5;28;01mif\u001b[39;00m sample_weight \u001b[38;5;129;01mis\u001b[39;00m \u001b[38;5;28;01mNone\u001b[39;00m \u001b[38;5;28;01melse\u001b[39;00m sample_weight, dtype\u001b[38;5;241m=\u001b[39mnp\u001b[38;5;241m.\u001b[39mfloat64\n\u001b[1;32m    205\u001b[0m )\n\u001b[1;32m    206\u001b[0m solver_type \u001b[38;5;241m=\u001b[39m LIBSVM_IMPL\u001b[38;5;241m.\u001b[39mindex(\u001b[38;5;28mself\u001b[39m\u001b[38;5;241m.\u001b[39m_impl)\n",
      "File \u001b[0;32m/opt/conda/lib/python3.10/site-packages/sklearn/svm/_base.py:745\u001b[0m, in \u001b[0;36mBaseSVC._validate_targets\u001b[0;34m(self, y)\u001b[0m\n\u001b[1;32m    743\u001b[0m \u001b[38;5;28;01mdef\u001b[39;00m \u001b[38;5;21m_validate_targets\u001b[39m(\u001b[38;5;28mself\u001b[39m, y):\n\u001b[1;32m    744\u001b[0m     y_ \u001b[38;5;241m=\u001b[39m column_or_1d(y, warn\u001b[38;5;241m=\u001b[39m\u001b[38;5;28;01mTrue\u001b[39;00m)\n\u001b[0;32m--> 745\u001b[0m     \u001b[43mcheck_classification_targets\u001b[49m\u001b[43m(\u001b[49m\u001b[43my\u001b[49m\u001b[43m)\u001b[49m\n\u001b[1;32m    746\u001b[0m     \u001b[38;5;28mcls\u001b[39m, y \u001b[38;5;241m=\u001b[39m np\u001b[38;5;241m.\u001b[39munique(y_, return_inverse\u001b[38;5;241m=\u001b[39m\u001b[38;5;28;01mTrue\u001b[39;00m)\n\u001b[1;32m    747\u001b[0m     \u001b[38;5;28mself\u001b[39m\u001b[38;5;241m.\u001b[39mclass_weight_ \u001b[38;5;241m=\u001b[39m compute_class_weight(\u001b[38;5;28mself\u001b[39m\u001b[38;5;241m.\u001b[39mclass_weight, classes\u001b[38;5;241m=\u001b[39m\u001b[38;5;28mcls\u001b[39m, y\u001b[38;5;241m=\u001b[39my_)\n",
      "File \u001b[0;32m/opt/conda/lib/python3.10/site-packages/sklearn/utils/multiclass.py:218\u001b[0m, in \u001b[0;36mcheck_classification_targets\u001b[0;34m(y)\u001b[0m\n\u001b[1;32m    210\u001b[0m y_type \u001b[38;5;241m=\u001b[39m type_of_target(y, input_name\u001b[38;5;241m=\u001b[39m\u001b[38;5;124m\"\u001b[39m\u001b[38;5;124my\u001b[39m\u001b[38;5;124m\"\u001b[39m)\n\u001b[1;32m    211\u001b[0m \u001b[38;5;28;01mif\u001b[39;00m y_type \u001b[38;5;129;01mnot\u001b[39;00m \u001b[38;5;129;01min\u001b[39;00m [\n\u001b[1;32m    212\u001b[0m     \u001b[38;5;124m\"\u001b[39m\u001b[38;5;124mbinary\u001b[39m\u001b[38;5;124m\"\u001b[39m,\n\u001b[1;32m    213\u001b[0m     \u001b[38;5;124m\"\u001b[39m\u001b[38;5;124mmulticlass\u001b[39m\u001b[38;5;124m\"\u001b[39m,\n\u001b[0;32m   (...)\u001b[0m\n\u001b[1;32m    216\u001b[0m     \u001b[38;5;124m\"\u001b[39m\u001b[38;5;124mmultilabel-sequences\u001b[39m\u001b[38;5;124m\"\u001b[39m,\n\u001b[1;32m    217\u001b[0m ]:\n\u001b[0;32m--> 218\u001b[0m     \u001b[38;5;28;01mraise\u001b[39;00m \u001b[38;5;167;01mValueError\u001b[39;00m(\u001b[38;5;124m\"\u001b[39m\u001b[38;5;124mUnknown label type: \u001b[39m\u001b[38;5;132;01m%r\u001b[39;00m\u001b[38;5;124m\"\u001b[39m \u001b[38;5;241m%\u001b[39m y_type)\n",
      "\u001b[0;31mValueError\u001b[0m: Unknown label type: 'unknown'"
     ]
    }
   ],
   "source": [
    "from sklearn.svm import SVC\n",
    "model_svc=SVC()\n",
    "model_svc.fit(x_train,y_train)\n",
    "pred1=model_svc.predict(x_test)\n",
    "from sklearn.metrics import accuracy_score\n",
    "print(accuracy_score(y_test,pred1)*100)\n"
   ]
  },
  {
   "cell_type": "code",
   "execution_count": null,
   "id": "0077b865",
   "metadata": {
    "execution": {
     "iopub.execute_input": "2023-06-04T10:50:18.336920Z",
     "iopub.status.busy": "2023-06-04T10:50:18.336472Z",
     "iopub.status.idle": "2023-06-04T10:50:18.342762Z",
     "shell.execute_reply": "2023-06-04T10:50:18.341465Z",
     "shell.execute_reply.started": "2023-06-04T10:50:18.336889Z"
    },
    "papermill": {
     "duration": null,
     "end_time": null,
     "exception": null,
     "start_time": null,
     "status": "pending"
    },
    "tags": []
   },
   "outputs": [],
   "source": [
    "from sklearn.metrics import classification_report,confusion_matrix"
   ]
  },
  {
   "cell_type": "code",
   "execution_count": null,
   "id": "ad08280b",
   "metadata": {
    "execution": {
     "iopub.execute_input": "2023-06-04T10:50:21.142250Z",
     "iopub.status.busy": "2023-06-04T10:50:21.141816Z",
     "iopub.status.idle": "2023-06-04T10:50:21.151163Z",
     "shell.execute_reply": "2023-06-04T10:50:21.149797Z",
     "shell.execute_reply.started": "2023-06-04T10:50:21.142215Z"
    },
    "papermill": {
     "duration": null,
     "end_time": null,
     "exception": null,
     "start_time": null,
     "status": "pending"
    },
    "tags": []
   },
   "outputs": [],
   "source": [
    "print(confusion_matrix(y_test,pred))"
   ]
  },
  {
   "cell_type": "code",
   "execution_count": null,
   "id": "26a9f201",
   "metadata": {
    "execution": {
     "iopub.execute_input": "2023-06-04T10:50:24.222095Z",
     "iopub.status.busy": "2023-06-04T10:50:24.221673Z",
     "iopub.status.idle": "2023-06-04T10:50:24.241503Z",
     "shell.execute_reply": "2023-06-04T10:50:24.239775Z",
     "shell.execute_reply.started": "2023-06-04T10:50:24.222063Z"
    },
    "papermill": {
     "duration": null,
     "end_time": null,
     "exception": null,
     "start_time": null,
     "status": "pending"
    },
    "tags": []
   },
   "outputs": [],
   "source": [
    "print( classification_report(y_test,pred))"
   ]
  },
  {
   "cell_type": "code",
   "execution_count": null,
   "id": "6c201679",
   "metadata": {
    "execution": {
     "iopub.execute_input": "2023-06-04T10:50:50.259976Z",
     "iopub.status.busy": "2023-06-04T10:50:50.259523Z",
     "iopub.status.idle": "2023-06-04T10:50:50.266415Z",
     "shell.execute_reply": "2023-06-04T10:50:50.265001Z",
     "shell.execute_reply.started": "2023-06-04T10:50:50.259946Z"
    },
    "papermill": {
     "duration": null,
     "end_time": null,
     "exception": null,
     "start_time": null,
     "status": "pending"
    },
    "tags": []
   },
   "outputs": [],
   "source": [
    "for i in range(len(pred1)):\n",
    "    print(y_test[i],pred1[i])"
   ]
  },
  {
   "cell_type": "markdown",
   "id": "f415e3ef",
   "metadata": {
    "papermill": {
     "duration": null,
     "end_time": null,
     "exception": null,
     "start_time": null,
     "status": "pending"
    },
    "tags": []
   },
   "source": [
    "**MODEL-2:LOGISTIC REGRESSION**"
   ]
  },
  {
   "cell_type": "code",
   "execution_count": null,
   "id": "ad529457",
   "metadata": {
    "execution": {
     "iopub.execute_input": "2023-06-04T10:19:05.818040Z",
     "iopub.status.busy": "2023-06-04T10:19:05.817325Z",
     "iopub.status.idle": "2023-06-04T10:19:05.855834Z",
     "shell.execute_reply": "2023-06-04T10:19:05.854378Z",
     "shell.execute_reply.started": "2023-06-04T10:19:05.817973Z"
    },
    "papermill": {
     "duration": null,
     "end_time": null,
     "exception": null,
     "start_time": null,
     "status": "pending"
    },
    "tags": []
   },
   "outputs": [],
   "source": [
    "from sklearn.linear_model import LogisticRegression\n",
    "model=LogisticRegression()\n",
    "model.fit(x_train,y_train)\n",
    "pred2=model.predict(x_test)\n",
    "from sklearn.metrics import accuracy_score\n",
    "print(accuracy_score(y_test,pred2)*100)"
   ]
  },
  {
   "cell_type": "code",
   "execution_count": null,
   "id": "04a399ad",
   "metadata": {
    "execution": {
     "iopub.execute_input": "2023-06-04T10:26:29.196474Z",
     "iopub.status.busy": "2023-06-04T10:26:29.196053Z",
     "iopub.status.idle": "2023-06-04T10:26:29.205105Z",
     "shell.execute_reply": "2023-06-04T10:26:29.203068Z",
     "shell.execute_reply.started": "2023-06-04T10:26:29.196442Z"
    },
    "papermill": {
     "duration": null,
     "end_time": null,
     "exception": null,
     "start_time": null,
     "status": "pending"
    },
    "tags": []
   },
   "outputs": [],
   "source": [
    "for i in range(len(pred2)):\n",
    "    print(y_test[i],pred2[i])\n",
    "    \n"
   ]
  },
  {
   "cell_type": "markdown",
   "id": "c71b4d23",
   "metadata": {
    "papermill": {
     "duration": null,
     "end_time": null,
     "exception": null,
     "start_time": null,
     "status": "pending"
    },
    "tags": []
   },
   "source": [
    "**MODEL-3:DECISION TREE CLASSIFIER**"
   ]
  },
  {
   "cell_type": "code",
   "execution_count": null,
   "id": "301b22b2",
   "metadata": {
    "execution": {
     "iopub.execute_input": "2023-06-04T10:29:47.681366Z",
     "iopub.status.busy": "2023-06-04T10:29:47.680897Z",
     "iopub.status.idle": "2023-06-04T10:29:47.897828Z",
     "shell.execute_reply": "2023-06-04T10:29:47.896351Z",
     "shell.execute_reply.started": "2023-06-04T10:29:47.681335Z"
    },
    "papermill": {
     "duration": null,
     "end_time": null,
     "exception": null,
     "start_time": null,
     "status": "pending"
    },
    "tags": []
   },
   "outputs": [],
   "source": [
    "from sklearn.tree import DecisionTreeClassifier\n",
    "model2=DecisionTreeClassifier()\n",
    "model2.fit(x_train,y_train)\n",
    "pred3=model2.predict(x_test)\n",
    "from sklearn.metrics import accuracy_score\n",
    "print(accuracy_score(y_test,pred3)*100)"
   ]
  },
  {
   "cell_type": "code",
   "execution_count": null,
   "id": "77eff554",
   "metadata": {
    "execution": {
     "iopub.execute_input": "2023-06-04T10:30:37.180588Z",
     "iopub.status.busy": "2023-06-04T10:30:37.180157Z",
     "iopub.status.idle": "2023-06-04T10:30:37.189504Z",
     "shell.execute_reply": "2023-06-04T10:30:37.187900Z",
     "shell.execute_reply.started": "2023-06-04T10:30:37.180560Z"
    },
    "papermill": {
     "duration": null,
     "end_time": null,
     "exception": null,
     "start_time": null,
     "status": "pending"
    },
    "tags": []
   },
   "outputs": [],
   "source": [
    "for i in range(len(pred3)):\n",
    "    print(y_test[i],pred3[i])"
   ]
  },
  {
   "cell_type": "markdown",
   "id": "df8333fa",
   "metadata": {
    "papermill": {
     "duration": null,
     "end_time": null,
     "exception": null,
     "start_time": null,
     "status": "pending"
    },
    "tags": []
   },
   "source": [
    "**VERIFYING A NEW INPUT TO GET THE DESIRED OUTPUT**"
   ]
  },
  {
   "cell_type": "code",
   "execution_count": null,
   "id": "da6a45fe",
   "metadata": {
    "execution": {
     "iopub.execute_input": "2023-06-04T10:49:03.865028Z",
     "iopub.status.busy": "2023-06-04T10:49:03.864592Z",
     "iopub.status.idle": "2023-06-04T10:49:03.873839Z",
     "shell.execute_reply": "2023-06-04T10:49:03.872196Z",
     "shell.execute_reply.started": "2023-06-04T10:49:03.864997Z"
    },
    "papermill": {
     "duration": null,
     "end_time": null,
     "exception": null,
     "start_time": null,
     "status": "pending"
    },
    "tags": []
   },
   "outputs": [],
   "source": [
    "x_new=np.array([[3,2,1,0.2],[4.9,2.2,3.9,4.1],[6.3,2,5.4,0.9]])\n",
    "prediction=model_svc.predict(x_new)\n",
    "print(\"prediction of species :{}\".format(prediction))"
   ]
  }
 ],
 "metadata": {
  "kernelspec": {
   "display_name": "Python 3",
   "language": "python",
   "name": "python3"
  },
  "language_info": {
   "codemirror_mode": {
    "name": "ipython",
    "version": 3
   },
   "file_extension": ".py",
   "mimetype": "text/x-python",
   "name": "python",
   "nbconvert_exporter": "python",
   "pygments_lexer": "ipython3",
   "version": "3.10.10"
  },
  "papermill": {
   "default_parameters": {},
   "duration": 28.491582,
   "end_time": "2023-06-04T14:45:30.356341",
   "environment_variables": {},
   "exception": true,
   "input_path": "__notebook__.ipynb",
   "output_path": "__notebook__.ipynb",
   "parameters": {},
   "start_time": "2023-06-04T14:45:01.864759",
   "version": "2.4.0"
  }
 },
 "nbformat": 4,
 "nbformat_minor": 5
}
